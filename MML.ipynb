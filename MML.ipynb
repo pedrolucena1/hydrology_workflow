{
 "cells": [
  {
   "cell_type": "code",
   "execution_count": 34,
   "id": "449aa392-5a67-4578-8acb-f756b505f2d9",
   "metadata": {},
   "outputs": [
    {
     "name": "stdout",
     "output_type": "stream",
     "text": [
      "[496.  475.  475.  457.  417.  416.4 404.7 400.  396.  379.  377.  370.\n",
      " 362.  357.  354.  352.7 352.6 338.  337.  335.  331.  327.  320.  319.7\n",
      " 319.  317.5 313.  312.  310.5 308.8 302.  298.6 298.5 293.4 290.  287.\n",
      " 284.  283.  279.  278.6 274.4 273.  272.  270.  263.9 262.1 261.9 262.\n",
      " 261.  260.  260.  259.  259.  258.  257.  257.  257.  254.  254.  253.\n",
      " 245.  243.  239.  237.  237.  234.  222.  219.  217.  208.  206.  203.\n",
      " 202.  196.  191.  188.  128. ]\n",
      "OrderedDict({'loc': 215.87764866712234, 'scale': 79.80157211209844})\n",
      "OrderedDict({'loc': 262.4519937207036, 'scale': 57.564666170633714})\n",
      "OrderedDict({'loc': 5.6604319193286825, 'scale': 0.23983241470542022})\n",
      "OrderedDict({'c': 0.030984866645239046, 'loc': 263.27841857827957, 'scale': 59.18897366870542})\n",
      "OrderedDict({'skew': 0.9133938870314149, 'loc': 295.67922077922077, 'scale': 72.58699836734486})\n",
      "OrderedDict({'skew': 0.15135228443262064, 'loc': 5.6604319193286825, 'scale': 0.240004162324488})\n"
     ]
    }
   ],
   "source": [
    "import numpy as np\n",
    "import pandas as pd\n",
    "import lmoments3 as lm\n",
    "from lmoments3 import distr\n",
    "data = []\n",
    "dr = open('C:/Users/pedro.lucena/OneDrive - Walm Engenharia/Documentos/00-temporario/1dia.txt','r')\n",
    "\n",
    "data = np.genfromtxt(dr,delimiter = '\\n')\n",
    "print(data)\n",
    "#exponencial (EXP)\n",
    "paras = distr.exp.lmom_fit(data)\n",
    "print(paras)\n",
    "#Gumbel (GUM)\n",
    "paras = distr.gum.lmom_fit(data)\n",
    "print(paras)\n",
    "#LogNormal (NOR)\n",
    "paras = distr.nor.lmom_fit(np.log(data))\n",
    "print(paras)\n",
    "#Generalized extreme-value (GEV)\n",
    "paras = distr.gev.lmom_fit(data)\n",
    "print(paras)\n",
    "#PearsonIII (PE3)\n",
    "paras = distr.pe3.lmom_fit(data)\n",
    "print(paras)\n",
    "#LogPearsonIII (PE3)\n",
    "paras = distr.pe3.lmom_fit(np.log(data))\n",
    "print(paras)"
   ]
  },
  {
   "cell_type": "code",
   "execution_count": null,
   "id": "3cf833a4-c802-45de-b415-23e000f8bdfc",
   "metadata": {},
   "outputs": [],
   "source": []
  }
 ],
 "metadata": {
  "kernelspec": {
   "display_name": "Python 3 (ipykernel)",
   "language": "python",
   "name": "python3"
  },
  "language_info": {
   "codemirror_mode": {
    "name": "ipython",
    "version": 3
   },
   "file_extension": ".py",
   "mimetype": "text/x-python",
   "name": "python",
   "nbconvert_exporter": "python",
   "pygments_lexer": "ipython3",
   "version": "3.12.4"
  }
 },
 "nbformat": 4,
 "nbformat_minor": 5
}
